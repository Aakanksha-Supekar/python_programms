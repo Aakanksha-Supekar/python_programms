{
 "cells": [
  {
   "cell_type": "markdown",
   "id": "c8350c85",
   "metadata": {},
   "source": [
    "# LIST\n"
   ]
  },
  {
   "cell_type": "markdown",
   "id": "d2a75186",
   "metadata": {},
   "source": [
    "* List are the arrays in python used to store different types of values.\n",
    "* List is mutable and stores values in square brackates.\n",
    "* It is ordered collection of elements."
   ]
  },
  {
   "cell_type": "code",
   "execution_count": 1,
   "id": "2ce75cae",
   "metadata": {},
   "outputs": [
    {
     "name": "stdout",
     "output_type": "stream",
     "text": [
      "[1, 'mango', 65.67, 'aakanksha']\n"
     ]
    }
   ],
   "source": [
    "gen_list = [1,'mango',65.67,'aakanksha']\n",
    "print(gen_list)"
   ]
  },
  {
   "cell_type": "code",
   "execution_count": 2,
   "id": "8681b004",
   "metadata": {},
   "outputs": [
    {
     "name": "stdout",
     "output_type": "stream",
     "text": [
      "<class 'list'>\n"
     ]
    }
   ],
   "source": [
    "print(type(gen_list))"
   ]
  },
  {
   "cell_type": "code",
   "execution_count": 3,
   "id": "b0d72c2a",
   "metadata": {},
   "outputs": [
    {
     "name": "stdout",
     "output_type": "stream",
     "text": [
      "mango\n",
      "aakanksha\n",
      "1\n",
      "mango\n"
     ]
    }
   ],
   "source": [
    "#element access using index\n",
    "print(gen_list[1])\n",
    "print(gen_list[-1])\n",
    "print(gen_list[0])\n",
    "print(gen_list[-3])\n",
    "      "
   ]
  },
  {
   "cell_type": "code",
   "execution_count": 4,
   "id": "91583e3f",
   "metadata": {},
   "outputs": [
    {
     "name": "stdout",
     "output_type": "stream",
     "text": [
      "1\n",
      "mango\n",
      "65.67\n",
      "aakanksha\n"
     ]
    }
   ],
   "source": [
    "# for accesing all elements in the list\n",
    "for i in gen_list:\n",
    "    print(i)"
   ]
  },
  {
   "cell_type": "code",
   "execution_count": 5,
   "id": "afd81e50",
   "metadata": {},
   "outputs": [
    {
     "data": {
      "text/plain": [
       "[1, 'mango']"
      ]
     },
     "execution_count": 5,
     "metadata": {},
     "output_type": "execute_result"
    }
   ],
   "source": [
    "gen_list[0:2]"
   ]
  },
  {
   "cell_type": "code",
   "execution_count": 6,
   "id": "6e0acb55",
   "metadata": {},
   "outputs": [
    {
     "data": {
      "text/plain": [
       "[65.67, 'aakanksha']"
      ]
     },
     "execution_count": 6,
     "metadata": {},
     "output_type": "execute_result"
    }
   ],
   "source": [
    "gen_list[2:4]"
   ]
  },
  {
   "cell_type": "code",
   "execution_count": 7,
   "id": "aa9e840d",
   "metadata": {},
   "outputs": [
    {
     "data": {
      "text/plain": [
       "[1, 'mango', 65.67, 'aakanksha']"
      ]
     },
     "execution_count": 7,
     "metadata": {},
     "output_type": "execute_result"
    }
   ],
   "source": [
    "gen_list"
   ]
  },
  {
   "cell_type": "code",
   "execution_count": 8,
   "id": "4875c97a",
   "metadata": {},
   "outputs": [
    {
     "data": {
      "text/plain": [
       "[65.67]"
      ]
     },
     "execution_count": 8,
     "metadata": {},
     "output_type": "execute_result"
    }
   ],
   "source": [
    "gen_list[-2:-1]"
   ]
  },
  {
   "cell_type": "code",
   "execution_count": 9,
   "id": "1d5db404",
   "metadata": {},
   "outputs": [],
   "source": [
    "#creating new list using elements in gen list\n",
    "new_list = gen_list[2:4]"
   ]
  },
  {
   "cell_type": "code",
   "execution_count": 10,
   "id": "6de8791d",
   "metadata": {},
   "outputs": [
    {
     "data": {
      "text/plain": [
       "[65.67, 'aakanksha']"
      ]
     },
     "execution_count": 10,
     "metadata": {},
     "output_type": "execute_result"
    }
   ],
   "source": [
    "new_list"
   ]
  },
  {
   "cell_type": "code",
   "execution_count": 11,
   "id": "65d01d57",
   "metadata": {},
   "outputs": [
    {
     "data": {
      "text/plain": [
       "4"
      ]
     },
     "execution_count": 11,
     "metadata": {},
     "output_type": "execute_result"
    }
   ],
   "source": [
    "# to,print length of list\n",
    "len(gen_list)"
   ]
  },
  {
   "cell_type": "code",
   "execution_count": 12,
   "id": "425a2c62",
   "metadata": {},
   "outputs": [
    {
     "data": {
      "text/plain": [
       "[65.67, 'aakanksha']"
      ]
     },
     "execution_count": 12,
     "metadata": {},
     "output_type": "execute_result"
    }
   ],
   "source": [
    "gen_list[2:]"
   ]
  },
  {
   "cell_type": "code",
   "execution_count": 13,
   "id": "f2dc170e",
   "metadata": {},
   "outputs": [
    {
     "data": {
      "text/plain": [
       "[65.67, 'aakanksha']"
      ]
     },
     "execution_count": 13,
     "metadata": {},
     "output_type": "execute_result"
    }
   ],
   "source": [
    "gen_list[-2:]"
   ]
  },
  {
   "cell_type": "code",
   "execution_count": 14,
   "id": "f7bbaad6",
   "metadata": {},
   "outputs": [
    {
     "data": {
      "text/plain": [
       "[1, 'mango']"
      ]
     },
     "execution_count": 14,
     "metadata": {},
     "output_type": "execute_result"
    }
   ],
   "source": [
    "gen_list[:2]"
   ]
  },
  {
   "cell_type": "code",
   "execution_count": 15,
   "id": "c3cf4560",
   "metadata": {},
   "outputs": [
    {
     "data": {
      "text/plain": [
       "[1, 'mango']"
      ]
     },
     "execution_count": 15,
     "metadata": {},
     "output_type": "execute_result"
    }
   ],
   "source": [
    "gen_list[:-2]"
   ]
  },
  {
   "cell_type": "code",
   "execution_count": 16,
   "id": "443627f2",
   "metadata": {},
   "outputs": [
    {
     "name": "stdout",
     "output_type": "stream",
     "text": [
      "mango aakanksha\n",
      "15\n"
     ]
    }
   ],
   "source": [
    "# concatenation of list\n",
    "sublist1=gen_list[1]\n",
    "sublist2=gen_list[3]\n",
    "sublist=sublist1 +\" \"+ sublist2\n",
    "print(sublist)\n",
    "print(len(sublist))"
   ]
  },
  {
   "cell_type": "code",
   "execution_count": 17,
   "id": "9caa0b0c",
   "metadata": {},
   "outputs": [
    {
     "name": "stdout",
     "output_type": "stream",
     "text": [
      "5\n"
     ]
    }
   ],
   "source": [
    "# list can have another list as an element\n",
    "numbers=[[1,2],[1,3,5,67],'aakanksha','mango','orange']\n",
    "print(len(numbers))"
   ]
  },
  {
   "cell_type": "code",
   "execution_count": 18,
   "id": "2be3cbb4",
   "metadata": {},
   "outputs": [
    {
     "data": {
      "text/plain": [
       "[1, 3, 5, 67]"
      ]
     },
     "execution_count": 18,
     "metadata": {},
     "output_type": "execute_result"
    }
   ],
   "source": [
    "numbers[1]"
   ]
  },
  {
   "cell_type": "code",
   "execution_count": 19,
   "id": "4d17f1a4",
   "metadata": {},
   "outputs": [
    {
     "data": {
      "text/plain": [
       "1"
      ]
     },
     "execution_count": 19,
     "metadata": {},
     "output_type": "execute_result"
    }
   ],
   "source": [
    "numbers[1][0]"
   ]
  },
  {
   "cell_type": "code",
   "execution_count": 20,
   "id": "feb525d8",
   "metadata": {},
   "outputs": [
    {
     "data": {
      "text/plain": [
       "2"
      ]
     },
     "execution_count": 20,
     "metadata": {},
     "output_type": "execute_result"
    }
   ],
   "source": [
    "numbers[0][1]"
   ]
  },
  {
   "cell_type": "code",
   "execution_count": 21,
   "id": "5e9f1c3c",
   "metadata": {},
   "outputs": [],
   "source": [
    "# Adding new element in the list\n",
    "numbers.append('supekar')"
   ]
  },
  {
   "cell_type": "code",
   "execution_count": 22,
   "id": "60c7699e",
   "metadata": {},
   "outputs": [
    {
     "data": {
      "text/plain": [
       "[[1, 2], [1, 3, 5, 67], 'aakanksha', 'mango', 'orange', 'supekar']"
      ]
     },
     "execution_count": 22,
     "metadata": {},
     "output_type": "execute_result"
    }
   ],
   "source": [
    "numbers"
   ]
  },
  {
   "cell_type": "code",
   "execution_count": 23,
   "id": "5e179eba",
   "metadata": {},
   "outputs": [],
   "source": [
    "# inserting element at specific location\n",
    "numbers.insert(2,55)"
   ]
  },
  {
   "cell_type": "code",
   "execution_count": 24,
   "id": "d23b67fd",
   "metadata": {},
   "outputs": [
    {
     "data": {
      "text/plain": [
       "[[1, 2], [1, 3, 5, 67], 55, 'aakanksha', 'mango', 'orange', 'supekar']"
      ]
     },
     "execution_count": 24,
     "metadata": {},
     "output_type": "execute_result"
    }
   ],
   "source": [
    "numbers"
   ]
  },
  {
   "cell_type": "code",
   "execution_count": 25,
   "id": "a06c69d8",
   "metadata": {},
   "outputs": [],
   "source": [
    "# removing element from the list\n",
    "numbers.remove(55)"
   ]
  },
  {
   "cell_type": "code",
   "execution_count": 26,
   "id": "381b2063",
   "metadata": {},
   "outputs": [
    {
     "data": {
      "text/plain": [
       "[[1, 2], [1, 3, 5, 67], 'aakanksha', 'mango', 'orange', 'supekar']"
      ]
     },
     "execution_count": 26,
     "metadata": {},
     "output_type": "execute_result"
    }
   ],
   "source": [
    "numbers"
   ]
  },
  {
   "cell_type": "code",
   "execution_count": 27,
   "id": "670b2426",
   "metadata": {},
   "outputs": [
    {
     "name": "stdout",
     "output_type": "stream",
     "text": [
      "[[1, 2], 'aakanksha', 'mango', 'orange', 'supekar']\n"
     ]
    }
   ],
   "source": [
    "# removing element using index\n",
    "numbers.pop(1)\n",
    "print(numbers)"
   ]
  },
  {
   "cell_type": "code",
   "execution_count": 28,
   "id": "782bf5ac",
   "metadata": {},
   "outputs": [
    {
     "data": {
      "text/plain": [
       "[[1, 2], 'aakanksha', 'mango', 'orange', 'supekar']"
      ]
     },
     "execution_count": 28,
     "metadata": {},
     "output_type": "execute_result"
    }
   ],
   "source": [
    "numbers"
   ]
  },
  {
   "cell_type": "code",
   "execution_count": 29,
   "id": "259d8ec1",
   "metadata": {},
   "outputs": [],
   "source": [
    "# deleting complete list\n",
    "del numbers"
   ]
  },
  {
   "cell_type": "code",
   "execution_count": 30,
   "id": "697d6940",
   "metadata": {},
   "outputs": [
    {
     "ename": "NameError",
     "evalue": "name 'numbers' is not defined",
     "output_type": "error",
     "traceback": [
      "\u001b[0;31m---------------------------------------------------------------------------\u001b[0m",
      "\u001b[0;31mNameError\u001b[0m                                 Traceback (most recent call last)",
      "\u001b[0;32m<ipython-input-30-6a54518a0c2c>\u001b[0m in \u001b[0;36m<module>\u001b[0;34m\u001b[0m\n\u001b[0;32m----> 1\u001b[0;31m \u001b[0mnumbers\u001b[0m\u001b[0;34m\u001b[0m\u001b[0;34m\u001b[0m\u001b[0m\n\u001b[0m",
      "\u001b[0;31mNameError\u001b[0m: name 'numbers' is not defined"
     ]
    }
   ],
   "source": [
    "numbers"
   ]
  },
  {
   "cell_type": "markdown",
   "id": "73451902",
   "metadata": {},
   "source": [
    "# TUPLE"
   ]
  },
  {
   "cell_type": "markdown",
   "id": "df852948",
   "metadata": {},
   "source": [
    "* Ordered Collection of data.\n",
    "* tuples are immutable.\n",
    "* duplicate elements are allowed in tuple.\n",
    "* for creating tuples we use round brackets."
   ]
  },
  {
   "cell_type": "code",
   "execution_count": 32,
   "id": "0d4af78c",
   "metadata": {},
   "outputs": [
    {
     "name": "stdout",
     "output_type": "stream",
     "text": [
      "(1, 2, 3, 3, 4, 4, 'aakanksha', 'supekar', True)\n"
     ]
    }
   ],
   "source": [
    "#Creating tuple t1\n",
    "t1 = (1,2,3,3,4,4,'aakanksha','supekar',True)\n",
    "print(t1)"
   ]
  },
  {
   "cell_type": "code",
   "execution_count": 33,
   "id": "e66272a6",
   "metadata": {},
   "outputs": [
    {
     "name": "stdout",
     "output_type": "stream",
     "text": [
      "<class 'tuple'>\n"
     ]
    }
   ],
   "source": [
    "print(type(t1))"
   ]
  },
  {
   "cell_type": "code",
   "execution_count": 34,
   "id": "2d6fa842",
   "metadata": {},
   "outputs": [
    {
     "data": {
      "text/plain": [
       "9"
      ]
     },
     "execution_count": 34,
     "metadata": {},
     "output_type": "execute_result"
    }
   ],
   "source": [
    "len(t1)"
   ]
  },
  {
   "cell_type": "code",
   "execution_count": 35,
   "id": "1e50cb5d",
   "metadata": {},
   "outputs": [
    {
     "data": {
      "text/plain": [
       "2"
      ]
     },
     "execution_count": 35,
     "metadata": {},
     "output_type": "execute_result"
    }
   ],
   "source": [
    "t1[1]"
   ]
  },
  {
   "cell_type": "code",
   "execution_count": 36,
   "id": "c9b666a2",
   "metadata": {},
   "outputs": [
    {
     "data": {
      "text/plain": [
       "(2, 3, 3, 4, 4, 'aakanksha', 'supekar', True)"
      ]
     },
     "execution_count": 36,
     "metadata": {},
     "output_type": "execute_result"
    }
   ],
   "source": [
    "t1[1:]"
   ]
  },
  {
   "cell_type": "code",
   "execution_count": 37,
   "id": "db5e3f6b",
   "metadata": {},
   "outputs": [
    {
     "data": {
      "text/plain": [
       "(1, 2, 3, 3, 4)"
      ]
     },
     "execution_count": 37,
     "metadata": {},
     "output_type": "execute_result"
    }
   ],
   "source": [
    "t1[:5]"
   ]
  },
  {
   "cell_type": "code",
   "execution_count": 38,
   "id": "45cda599",
   "metadata": {},
   "outputs": [
    {
     "data": {
      "text/plain": [
       "(4, 'aakanksha', 'supekar')"
      ]
     },
     "execution_count": 38,
     "metadata": {},
     "output_type": "execute_result"
    }
   ],
   "source": [
    "t1[5:8]"
   ]
  },
  {
   "cell_type": "code",
   "execution_count": 39,
   "id": "39c5600f",
   "metadata": {},
   "outputs": [
    {
     "data": {
      "text/plain": [
       "()"
      ]
     },
     "execution_count": 39,
     "metadata": {},
     "output_type": "execute_result"
    }
   ],
   "source": [
    "t1[-1:-5]"
   ]
  },
  {
   "cell_type": "code",
   "execution_count": 40,
   "id": "ed1465c6",
   "metadata": {},
   "outputs": [
    {
     "data": {
      "text/plain": [
       "(4, 'aakanksha', 'supekar')"
      ]
     },
     "execution_count": 40,
     "metadata": {},
     "output_type": "execute_result"
    }
   ],
   "source": [
    "t1[-4:-1]"
   ]
  },
  {
   "cell_type": "code",
   "execution_count": 41,
   "id": "0914c6be",
   "metadata": {},
   "outputs": [],
   "source": [
    "l1 = list(t1)"
   ]
  },
  {
   "cell_type": "code",
   "execution_count": 42,
   "id": "15db9eed",
   "metadata": {},
   "outputs": [
    {
     "data": {
      "text/plain": [
       "tuple"
      ]
     },
     "execution_count": 42,
     "metadata": {},
     "output_type": "execute_result"
    }
   ],
   "source": [
    "type(t1)"
   ]
  },
  {
   "cell_type": "code",
   "execution_count": 43,
   "id": "c0cf0660",
   "metadata": {},
   "outputs": [
    {
     "data": {
      "text/plain": [
       "list"
      ]
     },
     "execution_count": 43,
     "metadata": {},
     "output_type": "execute_result"
    }
   ],
   "source": [
    "type(l1)"
   ]
  },
  {
   "cell_type": "code",
   "execution_count": 44,
   "id": "3c3c7cdd",
   "metadata": {},
   "outputs": [
    {
     "name": "stdout",
     "output_type": "stream",
     "text": [
      "[1, 2, 3, 3, 4, 4, 'aakanksha', 'supekar', True]\n"
     ]
    }
   ],
   "source": [
    "print(l1)"
   ]
  },
  {
   "cell_type": "code",
   "execution_count": 45,
   "id": "6d58009e",
   "metadata": {},
   "outputs": [
    {
     "name": "stdout",
     "output_type": "stream",
     "text": [
      "[1, 2, 3, 3, 4, 4, 'aakanksha', 'supekar', True, 'dbms']\n"
     ]
    }
   ],
   "source": [
    "l1.append(\"dbms\")\n",
    "print(l1)"
   ]
  },
  {
   "cell_type": "code",
   "execution_count": 46,
   "id": "7ab83b2f",
   "metadata": {},
   "outputs": [
    {
     "data": {
      "text/plain": [
       "(1, 2, 3, 3, 4, 4, 'aakanksha', 'supekar', True)"
      ]
     },
     "execution_count": 46,
     "metadata": {},
     "output_type": "execute_result"
    }
   ],
   "source": [
    "t1"
   ]
  },
  {
   "cell_type": "code",
   "execution_count": 47,
   "id": "882c7d42",
   "metadata": {},
   "outputs": [],
   "source": [
    "t1 = tuple(l1)"
   ]
  },
  {
   "cell_type": "code",
   "execution_count": 48,
   "id": "48cf9376",
   "metadata": {},
   "outputs": [
    {
     "data": {
      "text/plain": [
       "(1, 2, 3, 3, 4, 4, 'aakanksha', 'supekar', True, 'dbms')"
      ]
     },
     "execution_count": 48,
     "metadata": {},
     "output_type": "execute_result"
    }
   ],
   "source": [
    "t1"
   ]
  },
  {
   "cell_type": "markdown",
   "id": "241fdefd",
   "metadata": {},
   "source": [
    "# Set"
   ]
  },
  {
   "cell_type": "markdown",
   "id": "4ae843b5",
   "metadata": {},
   "source": [
    "* Unordered datatype.\n",
    "* unindexed\n",
    "* mutable for few operations\n",
    "* allows different types of elements\n",
    "* duplicate elements are not allowed\n",
    "* {} used to represet set"
   ]
  },
  {
   "cell_type": "code",
   "execution_count": 49,
   "id": "17cb036f",
   "metadata": {},
   "outputs": [
    {
     "name": "stdout",
     "output_type": "stream",
     "text": [
      "{1, 2, 4, 5, 'aakanksha'}\n"
     ]
    }
   ],
   "source": [
    "set1 = {1,2,4,5,'aakanksha'}\n",
    "print(set1)"
   ]
  },
  {
   "cell_type": "code",
   "execution_count": 50,
   "id": "c17ae8d6",
   "metadata": {},
   "outputs": [
    {
     "data": {
      "text/plain": [
       "5"
      ]
     },
     "execution_count": 50,
     "metadata": {},
     "output_type": "execute_result"
    }
   ],
   "source": [
    "len(set1)"
   ]
  },
  {
   "cell_type": "code",
   "execution_count": 51,
   "id": "79f37077",
   "metadata": {},
   "outputs": [
    {
     "ename": "AttributeError",
     "evalue": "'set' object has no attribute 'insert'",
     "output_type": "error",
     "traceback": [
      "\u001b[0;31m---------------------------------------------------------------------------\u001b[0m",
      "\u001b[0;31mAttributeError\u001b[0m                            Traceback (most recent call last)",
      "\u001b[0;32m<ipython-input-51-f357f572e117>\u001b[0m in \u001b[0;36m<module>\u001b[0;34m\u001b[0m\n\u001b[0;32m----> 1\u001b[0;31m \u001b[0mset1\u001b[0m\u001b[0;34m.\u001b[0m\u001b[0minsert\u001b[0m\u001b[0;34m(\u001b[0m\u001b[0;34m'i like python'\u001b[0m\u001b[0;34m)\u001b[0m\u001b[0;34m\u001b[0m\u001b[0;34m\u001b[0m\u001b[0m\n\u001b[0m",
      "\u001b[0;31mAttributeError\u001b[0m: 'set' object has no attribute 'insert'"
     ]
    }
   ],
   "source": [
    "set1.insert('i like python')"
   ]
  },
  {
   "cell_type": "code",
   "execution_count": 52,
   "id": "4fca9649",
   "metadata": {},
   "outputs": [],
   "source": [
    "#SLICING IS NOT POSSIBLE IN SET"
   ]
  },
  {
   "cell_type": "code",
   "execution_count": 53,
   "id": "d386d123",
   "metadata": {},
   "outputs": [
    {
     "name": "stdout",
     "output_type": "stream",
     "text": [
      "1\n",
      "2\n",
      "4\n",
      "5\n",
      "aakanksha\n"
     ]
    }
   ],
   "source": [
    "# for printing all elements in set\n",
    "for i in set1:\n",
    "    print(i)"
   ]
  },
  {
   "cell_type": "code",
   "execution_count": 54,
   "id": "90ff78e1",
   "metadata": {},
   "outputs": [
    {
     "name": "stdout",
     "output_type": "stream",
     "text": [
      "False\n",
      "True\n"
     ]
    }
   ],
   "source": [
    "# checking element exist in set or not using in operator\n",
    "print(2.4 in set1)\n",
    "print(2 in set1)"
   ]
  },
  {
   "cell_type": "code",
   "execution_count": 55,
   "id": "161fccfd",
   "metadata": {},
   "outputs": [
    {
     "ename": "TypeError",
     "evalue": "'set' object does not support item assignment",
     "output_type": "error",
     "traceback": [
      "\u001b[0;31m---------------------------------------------------------------------------\u001b[0m",
      "\u001b[0;31mTypeError\u001b[0m                                 Traceback (most recent call last)",
      "\u001b[0;32m<ipython-input-55-4cff614e568b>\u001b[0m in \u001b[0;36m<module>\u001b[0;34m\u001b[0m\n\u001b[0;32m----> 1\u001b[0;31m \u001b[0mset1\u001b[0m\u001b[0;34m[\u001b[0m\u001b[0;36m1\u001b[0m\u001b[0;34m]\u001b[0m\u001b[0;34m=\u001b[0m\u001b[0;36m6\u001b[0m\u001b[0;34m\u001b[0m\u001b[0;34m\u001b[0m\u001b[0m\n\u001b[0m",
      "\u001b[0;31mTypeError\u001b[0m: 'set' object does not support item assignment"
     ]
    }
   ],
   "source": [
    "set1[1]=6"
   ]
  },
  {
   "cell_type": "code",
   "execution_count": 56,
   "id": "eb1a3020",
   "metadata": {},
   "outputs": [
    {
     "name": "stdout",
     "output_type": "stream",
     "text": [
      "{1, 2, 99, 4, 5, 'aakanksha'}\n"
     ]
    }
   ],
   "source": [
    "# new element in set can be added using add operator\n",
    "set1.add(99)\n",
    "print(set1)"
   ]
  },
  {
   "cell_type": "code",
   "execution_count": 57,
   "id": "9a5f4767",
   "metadata": {},
   "outputs": [
    {
     "data": {
      "text/plain": [
       "{1, 2, 4, 5, 8, 99, 'aakanksha', 'enjoying learning', 'hi'}"
      ]
     },
     "execution_count": 57,
     "metadata": {},
     "output_type": "execute_result"
    }
   ],
   "source": [
    "# for adding multiple elements in set\n",
    "set1.update(['hi','enjoying learning',8])\n",
    "set1"
   ]
  },
  {
   "cell_type": "code",
   "execution_count": 58,
   "id": "53773d1c",
   "metadata": {},
   "outputs": [
    {
     "data": {
      "text/plain": [
       "{1, 2, 4, 5, 99, 'aakanksha', 'enjoying learning', 'hi'}"
      ]
     },
     "execution_count": 58,
     "metadata": {},
     "output_type": "execute_result"
    }
   ],
   "source": [
    "# for remove elements\n",
    "set1.remove(8)\n",
    "set1"
   ]
  },
  {
   "cell_type": "code",
   "execution_count": 59,
   "id": "78ae5c4f",
   "metadata": {},
   "outputs": [
    {
     "data": {
      "text/plain": [
       "{1, 2, 4, 5, 99, 'aakanksha', 'enjoying learning', 'hi'}"
      ]
     },
     "execution_count": 59,
     "metadata": {},
     "output_type": "execute_result"
    }
   ],
   "source": [
    "# to make copy into another set\n",
    "set2 = set1.copy()\n",
    "set2"
   ]
  },
  {
   "cell_type": "code",
   "execution_count": 60,
   "id": "df1d95bc",
   "metadata": {},
   "outputs": [
    {
     "data": {
      "text/plain": [
       "1"
      ]
     },
     "execution_count": 60,
     "metadata": {},
     "output_type": "execute_result"
    }
   ],
   "source": [
    "set1.pop()"
   ]
  },
  {
   "cell_type": "code",
   "execution_count": 61,
   "id": "bb79deb9",
   "metadata": {},
   "outputs": [
    {
     "data": {
      "text/plain": [
       "{2, 4, 5, 99, 'aakanksha', 'enjoying learning', 'hi'}"
      ]
     },
     "execution_count": 61,
     "metadata": {},
     "output_type": "execute_result"
    }
   ],
   "source": [
    "set1"
   ]
  },
  {
   "cell_type": "code",
   "execution_count": 62,
   "id": "e76bdbd8",
   "metadata": {},
   "outputs": [],
   "source": [
    "# for deleting entire set\n",
    "del set1"
   ]
  },
  {
   "cell_type": "code",
   "execution_count": 63,
   "id": "623967a3",
   "metadata": {},
   "outputs": [
    {
     "ename": "NameError",
     "evalue": "name 'set1' is not defined",
     "output_type": "error",
     "traceback": [
      "\u001b[0;31m---------------------------------------------------------------------------\u001b[0m",
      "\u001b[0;31mNameError\u001b[0m                                 Traceback (most recent call last)",
      "\u001b[0;32m<ipython-input-63-d18f5a84d934>\u001b[0m in \u001b[0;36m<module>\u001b[0;34m\u001b[0m\n\u001b[0;32m----> 1\u001b[0;31m \u001b[0mset1\u001b[0m\u001b[0;34m\u001b[0m\u001b[0;34m\u001b[0m\u001b[0m\n\u001b[0m",
      "\u001b[0;31mNameError\u001b[0m: name 'set1' is not defined"
     ]
    }
   ],
   "source": [
    "set1"
   ]
  },
  {
   "cell_type": "code",
   "execution_count": 64,
   "id": "aa4c56c2",
   "metadata": {},
   "outputs": [
    {
     "name": "stdout",
     "output_type": "stream",
     "text": [
      "setA: {67, 3, 'google', 89, 'apple'}\n",
      "setB: {5, 7, 'google', 'hp', 'apple'}\n"
     ]
    }
   ],
   "source": [
    "# set operations\n",
    "setA = {'google','apple',3,67,89}\n",
    "setB = {'hp', 'google','apple',5,7}\n",
    "print(\"setA:\",setA)\n",
    "print(\"setB:\",setB)"
   ]
  },
  {
   "cell_type": "code",
   "execution_count": 65,
   "id": "8ba1139d",
   "metadata": {},
   "outputs": [
    {
     "name": "stdout",
     "output_type": "stream",
     "text": [
      "{67, 3, 5, 7, 'google', 'hp', 89, 'apple'}\n"
     ]
    }
   ],
   "source": [
    "# union\n",
    "Unionset = setA.union(setB)\n",
    "print(Unionset)"
   ]
  },
  {
   "cell_type": "code",
   "execution_count": 66,
   "id": "e852a2c4",
   "metadata": {},
   "outputs": [
    {
     "name": "stdout",
     "output_type": "stream",
     "text": [
      "{'google', 'apple'}\n"
     ]
    }
   ],
   "source": [
    "#intersectionUnionset = setA.union(setB)\n",
    "inter = setA.intersection(setB)\n",
    "print(inter)\n",
    "\n"
   ]
  },
  {
   "cell_type": "code",
   "execution_count": 67,
   "id": "62fdca47",
   "metadata": {},
   "outputs": [
    {
     "name": "stdout",
     "output_type": "stream",
     "text": [
      "{3, 89, 67}\n"
     ]
    }
   ],
   "source": [
    "# Difference\n",
    "diff=setA.difference(setB)\n",
    "print(diff)"
   ]
  },
  {
   "cell_type": "code",
   "execution_count": 68,
   "id": "a8b2612a",
   "metadata": {},
   "outputs": [
    {
     "name": "stdout",
     "output_type": "stream",
     "text": [
      "{67, 3, 5, 7, 89, 'hp'}\n"
     ]
    }
   ],
   "source": [
    "#symmetric difference\n",
    "sym_diff=setA.symmetric_difference(setB)\n",
    "print(sym_diff)"
   ]
  },
  {
   "cell_type": "code",
   "execution_count": 69,
   "id": "53347f30",
   "metadata": {},
   "outputs": [
    {
     "name": "stdout",
     "output_type": "stream",
     "text": [
      "False\n"
     ]
    }
   ],
   "source": [
    "# is subset\n",
    "print(setA.issubset(setB))"
   ]
  },
  {
   "cell_type": "code",
   "execution_count": 70,
   "id": "e0ecf6a7",
   "metadata": {},
   "outputs": [
    {
     "name": "stdout",
     "output_type": "stream",
     "text": [
      "False\n"
     ]
    }
   ],
   "source": [
    "#is superset\n",
    "print(setA.issuperset(setB))"
   ]
  },
  {
   "cell_type": "markdown",
   "id": "1f29abe0",
   "metadata": {},
   "source": [
    "# Dictionary"
   ]
  },
  {
   "cell_type": "markdown",
   "id": "7b4d55e0",
   "metadata": {},
   "source": [
    "* unorderd collection of data in key : value format\n",
    "* mutable\n",
    "* {} is used to represent\n",
    "* indexing is not available"
   ]
  },
  {
   "cell_type": "code",
   "execution_count": 71,
   "id": "a2c36a8d",
   "metadata": {},
   "outputs": [
    {
     "name": "stdout",
     "output_type": "stream",
     "text": [
      "{'name': 'Aakanksha', 'Father name': 'Ashok', 'Surname': 'Supekar', 'age': 19}\n"
     ]
    }
   ],
   "source": [
    "# creating dictionary\n",
    "bio = {\"name\":\"Aakanksha\",\"Father name\":\"Ashok\",\"Surname\":\"Supekar\",\"age\":19}\n",
    "print(bio)"
   ]
  },
  {
   "cell_type": "code",
   "execution_count": 72,
   "id": "23af5a72",
   "metadata": {},
   "outputs": [
    {
     "data": {
      "text/plain": [
       "dict"
      ]
     },
     "execution_count": 72,
     "metadata": {},
     "output_type": "execute_result"
    }
   ],
   "source": [
    "type(bio)"
   ]
  },
  {
   "cell_type": "code",
   "execution_count": 73,
   "id": "98e98d4f",
   "metadata": {},
   "outputs": [
    {
     "data": {
      "text/plain": [
       "4"
      ]
     },
     "execution_count": 73,
     "metadata": {},
     "output_type": "execute_result"
    }
   ],
   "source": [
    "len(bio)"
   ]
  },
  {
   "cell_type": "code",
   "execution_count": 74,
   "id": "479cab9a",
   "metadata": {},
   "outputs": [
    {
     "name": "stdout",
     "output_type": "stream",
     "text": [
      "name\n",
      "Father name\n",
      "Surname\n",
      "age\n"
     ]
    }
   ],
   "source": [
    "#accesing elements\n",
    "for i in bio:\n",
    "    print(i)"
   ]
  },
  {
   "cell_type": "code",
   "execution_count": 75,
   "id": "1e30cc1e",
   "metadata": {},
   "outputs": [
    {
     "name": "stdout",
     "output_type": "stream",
     "text": [
      "<class 'dict'>\n"
     ]
    }
   ],
   "source": [
    "print(type(bio))"
   ]
  },
  {
   "cell_type": "code",
   "execution_count": 76,
   "id": "8f1a7aff",
   "metadata": {},
   "outputs": [
    {
     "data": {
      "text/plain": [
       "dict_items([('name', 'Aakanksha'), ('Father name', 'Ashok'), ('Surname', 'Supekar'), ('age', 19)])"
      ]
     },
     "execution_count": 76,
     "metadata": {},
     "output_type": "execute_result"
    }
   ],
   "source": [
    "bio.items()"
   ]
  },
  {
   "cell_type": "code",
   "execution_count": 77,
   "id": "3a39731b",
   "metadata": {},
   "outputs": [
    {
     "name": "stdout",
     "output_type": "stream",
     "text": [
      "{'name': 'Aakanksha', 'Father name': 'Ashok', 'Surname': 'Supekar', 'age': 19}\n"
     ]
    }
   ],
   "source": [
    "print(bio)"
   ]
  },
  {
   "cell_type": "code",
   "execution_count": 82,
   "id": "8fd77639",
   "metadata": {},
   "outputs": [
    {
     "name": "stdout",
     "output_type": "stream",
     "text": [
      "Aakanksha\n",
      "Ashok\n",
      "Supekar\n"
     ]
    }
   ],
   "source": [
    "# accesing particular item from dictionary\n",
    "print(bio[\"name\"])\n",
    "print(bio[\"Father name\"])\n",
    "print(bio[\"Surname\"])"
   ]
  },
  {
   "cell_type": "code",
   "execution_count": null,
   "id": "5bced5a4",
   "metadata": {},
   "outputs": [],
   "source": []
  }
 ],
 "metadata": {
  "kernelspec": {
   "display_name": "Python 3",
   "language": "python",
   "name": "python3"
  },
  "language_info": {
   "codemirror_mode": {
    "name": "ipython",
    "version": 3
   },
   "file_extension": ".py",
   "mimetype": "text/x-python",
   "name": "python",
   "nbconvert_exporter": "python",
   "pygments_lexer": "ipython3",
   "version": "3.8.8"
  }
 },
 "nbformat": 4,
 "nbformat_minor": 5
}
