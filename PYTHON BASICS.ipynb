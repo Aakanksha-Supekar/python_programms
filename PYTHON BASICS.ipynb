{
 "cells": [
  {
   "cell_type": "markdown",
   "id": "49f5c8d7",
   "metadata": {},
   "source": [
    "Introduction To Python"
   ]
  },
  {
   "cell_type": "code",
   "execution_count": 2,
   "id": "8fc1a639",
   "metadata": {},
   "outputs": [
    {
     "name": "stdout",
     "output_type": "stream",
     "text": [
      "hello world\n"
     ]
    }
   ],
   "source": [
    "print('hello world')"
   ]
  },
  {
   "cell_type": "markdown",
   "id": "13e4572a",
   "metadata": {},
   "source": [
    "INDENTATION : white space at the start of code\n"
   ]
  },
  {
   "cell_type": "code",
   "execution_count": 6,
   "id": "3a239115",
   "metadata": {},
   "outputs": [
    {
     "name": "stdout",
     "output_type": "stream",
     "text": [
      "proper indentation\n",
      "we are out of the loop\n"
     ]
    }
   ],
   "source": [
    "if 2<3:\n",
    "    print(\"proper indentation\")\n",
    "print(\"we are out of the loop\")    "
   ]
  },
  {
   "cell_type": "code",
   "execution_count": 7,
   "id": "de8da3e7",
   "metadata": {},
   "outputs": [
    {
     "name": "stdout",
     "output_type": "stream",
     "text": [
      "TRUE\n",
      "proper indented\n"
     ]
    }
   ],
   "source": [
    "# to run particular block of code , all statements should have same indent space\n",
    "if 2<3:\n",
    "    print(\"TRUE\")\n",
    "    print(\"proper indented\")"
   ]
  },
  {
   "cell_type": "markdown",
   "id": "c5363665",
   "metadata": {},
   "source": [
    "COMMENTS : non executable statements"
   ]
  },
  {
   "cell_type": "code",
   "execution_count": 8,
   "id": "8b2ddac1",
   "metadata": {},
   "outputs": [
    {
     "data": {
      "text/plain": [
       "'\\nMultiline comment\\n\\n'"
      ]
     },
     "execution_count": 8,
     "metadata": {},
     "output_type": "execute_result"
    }
   ],
   "source": [
    "# TO WRITE A COMMENT WE USE HASH SYMBOL\n",
    "\"\"\"\n",
    "Multiline comment\n",
    "\n",
    "\"\"\""
   ]
  },
  {
   "cell_type": "markdown",
   "id": "ab7eea33",
   "metadata": {},
   "source": [
    "# VARIABLES"
   ]
  },
  {
   "cell_type": "code",
   "execution_count": 10,
   "id": "1bcce9fc",
   "metadata": {},
   "outputs": [],
   "source": [
    "# Contaners which stores values\n",
    "roll_no = 6\n",
    "name = 'AAKANKSHA '\n",
    "percentage = 9.14"
   ]
  },
  {
   "cell_type": "code",
   "execution_count": 12,
   "id": "58a054a9",
   "metadata": {},
   "outputs": [
    {
     "data": {
      "text/plain": [
       "float"
      ]
     },
     "execution_count": 12,
     "metadata": {},
     "output_type": "execute_result"
    }
   ],
   "source": [
    "type(roll_no)\n"
   ]
  },
  {
   "cell_type": "code",
   "execution_count": 14,
   "id": "dde51b90",
   "metadata": {},
   "outputs": [
    {
     "data": {
      "text/plain": [
       "str"
      ]
     },
     "execution_count": 14,
     "metadata": {},
     "output_type": "execute_result"
    }
   ],
   "source": [
    "type(name)\n"
   ]
  },
  {
   "cell_type": "code",
   "execution_count": 15,
   "id": "a7d124b6",
   "metadata": {},
   "outputs": [
    {
     "data": {
      "text/plain": [
       "float"
      ]
     },
     "execution_count": 15,
     "metadata": {},
     "output_type": "execute_result"
    }
   ],
   "source": [
    "type(percentage)"
   ]
  },
  {
   "cell_type": "code",
   "execution_count": 17,
   "id": "f98c1ea0",
   "metadata": {},
   "outputs": [
    {
     "name": "stdout",
     "output_type": "stream",
     "text": [
      "67\n",
      "67\n",
      "67\n"
     ]
    }
   ],
   "source": [
    "var1=var2=var3=67\n",
    "print(var1)\n",
    "print(var2)\n",
    "print(var3)\n",
    "\n"
   ]
  },
  {
   "cell_type": "code",
   "execution_count": 18,
   "id": "6c8ce8e3",
   "metadata": {},
   "outputs": [
    {
     "name": "stdout",
     "output_type": "stream",
     "text": [
      "10\n",
      "20\n",
      "30\n"
     ]
    }
   ],
   "source": [
    "v1,v2,v3=10,20,30\n",
    "print(v1)\n",
    "print(v2)\n",
    "print(v3)"
   ]
  },
  {
   "cell_type": "code",
   "execution_count": 19,
   "id": "15949772",
   "metadata": {},
   "outputs": [
    {
     "ename": "SyntaxError",
     "evalue": "invalid syntax (<ipython-input-19-ce210287eb16>, line 3)",
     "output_type": "error",
     "traceback": [
      "\u001b[0;36m  File \u001b[0;32m\"<ipython-input-19-ce210287eb16>\"\u001b[0;36m, line \u001b[0;32m3\u001b[0m\n\u001b[0;31m    1var=12#invalid\u001b[0m\n\u001b[0m     ^\u001b[0m\n\u001b[0;31mSyntaxError\u001b[0m\u001b[0;31m:\u001b[0m invalid syntax\n"
     ]
    }
   ],
   "source": [
    "# valid invalid variables\n",
    "var1=12#valid\n",
    "1var=12#invalid\n",
    "var@=hello#invalid\n",
    "va76=903valid\n",
    "_vdfg=67#valid\n"
   ]
  },
  {
   "cell_type": "code",
   "execution_count": 21,
   "id": "a181d076",
   "metadata": {},
   "outputs": [
    {
     "name": "stdout",
     "output_type": "stream",
     "text": [
      "python is  awesome\n",
      "python is  awesome\n"
     ]
    }
   ],
   "source": [
    "# concatenating two strings\n",
    "x = 'awesome'\n",
    "print('python is ',x) # 1 method\n",
    "print(\"python is \"+\" \"+x) # 2 method"
   ]
  },
  {
   "cell_type": "code",
   "execution_count": 28,
   "id": "dc5a37b6",
   "metadata": {},
   "outputs": [
    {
     "name": "stdout",
     "output_type": "stream",
     "text": [
      "python is awesome\n"
     ]
    }
   ],
   "source": [
    "str1 = 'python is '\n",
    "str2 = 'awesome'\n",
    "print(str1+str2)"
   ]
  },
  {
   "cell_type": "code",
   "execution_count": 25,
   "id": "62d58cd1",
   "metadata": {},
   "outputs": [
    {
     "name": "stdout",
     "output_type": "stream",
     "text": [
      "33\n"
     ]
    }
   ],
   "source": [
    "num1 = 11\n",
    "num2 = 22\n",
    "print(num1+num2)"
   ]
  },
  {
   "cell_type": "code",
   "execution_count": 30,
   "id": "bd5a1ca1",
   "metadata": {},
   "outputs": [
    {
     "ename": "TypeError",
     "evalue": "unsupported operand type(s) for +: 'int' and 'str'",
     "output_type": "error",
     "traceback": [
      "\u001b[0;31m---------------------------------------------------------------------------\u001b[0m",
      "\u001b[0;31mTypeError\u001b[0m                                 Traceback (most recent call last)",
      "\u001b[0;32m<ipython-input-30-8317b6176d49>\u001b[0m in \u001b[0;36m<module>\u001b[0;34m\u001b[0m\n\u001b[1;32m      1\u001b[0m \u001b[0mnum1\u001b[0m \u001b[0;34m=\u001b[0m \u001b[0;36m11\u001b[0m\u001b[0;34m\u001b[0m\u001b[0;34m\u001b[0m\u001b[0m\n\u001b[1;32m      2\u001b[0m \u001b[0mnum2\u001b[0m \u001b[0;34m=\u001b[0m \u001b[0;34m\"hello\"\u001b[0m\u001b[0;34m\u001b[0m\u001b[0;34m\u001b[0m\u001b[0m\n\u001b[0;32m----> 3\u001b[0;31m \u001b[0mprint\u001b[0m\u001b[0;34m(\u001b[0m\u001b[0mnum1\u001b[0m\u001b[0;34m+\u001b[0m\u001b[0mnum2\u001b[0m\u001b[0;34m)\u001b[0m\u001b[0;34m\u001b[0m\u001b[0;34m\u001b[0m\u001b[0m\n\u001b[0m\u001b[1;32m      4\u001b[0m \u001b[0;31m# concatination happens in between same data type\u001b[0m\u001b[0;34m\u001b[0m\u001b[0;34m\u001b[0m\u001b[0;34m\u001b[0m\u001b[0m\n",
      "\u001b[0;31mTypeError\u001b[0m: unsupported operand type(s) for +: 'int' and 'str'"
     ]
    }
   ],
   "source": [
    "num1 = 11\n",
    "num2 = \"hello\"\n",
    "print(num1+num2)\n",
    "# concatination happens in between same data type"
   ]
  },
  {
   "cell_type": "code",
   "execution_count": 33,
   "id": "85dfe82c",
   "metadata": {},
   "outputs": [
    {
     "name": "stdout",
     "output_type": "stream",
     "text": [
      "<class 'str'>\n",
      "<class 'str'>\n",
      "1122\n"
     ]
    }
   ],
   "source": [
    "num1 = '11'\n",
    "num2 = '22'\n",
    "print(type(num1))\n",
    "print(type(num2))\n",
    "print(num1+num2)"
   ]
  },
  {
   "cell_type": "code",
   "execution_count": 34,
   "id": "79b1d7c3",
   "metadata": {},
   "outputs": [
    {
     "name": "stdout",
     "output_type": "stream",
     "text": [
      "67.6\n"
     ]
    }
   ],
   "source": [
    "# float + int\n",
    "num1= 22\n",
    "num2= 45.6\n",
    "print(num1+num2)"
   ]
  },
  {
   "cell_type": "code",
   "execution_count": 37,
   "id": "0cd949e2",
   "metadata": {},
   "outputs": [
    {
     "name": "stdout",
     "output_type": "stream",
     "text": [
      "python is  Awesome\n"
     ]
    }
   ],
   "source": [
    "# GLOBAL VARIABLES\n",
    "str = 'Awesome'\n",
    "def f1():\n",
    "    print(\"python is \",str)\n",
    "f1()"
   ]
  },
  {
   "cell_type": "code",
   "execution_count": 44,
   "id": "f64e2652",
   "metadata": {},
   "outputs": [
    {
     "ename": "NameError",
     "evalue": "name 'str22' is not defined",
     "output_type": "error",
     "traceback": [
      "\u001b[0;31m---------------------------------------------------------------------------\u001b[0m",
      "\u001b[0;31mNameError\u001b[0m                                 Traceback (most recent call last)",
      "\u001b[0;32m<ipython-input-44-bea4a64d7a94>\u001b[0m in \u001b[0;36m<module>\u001b[0;34m\u001b[0m\n\u001b[1;32m      2\u001b[0m     \u001b[0mstr22\u001b[0m \u001b[0;34m=\u001b[0m \u001b[0;34m'Awesome'\u001b[0m\u001b[0;34m\u001b[0m\u001b[0;34m\u001b[0m\u001b[0m\n\u001b[1;32m      3\u001b[0m \u001b[0mf2\u001b[0m\u001b[0;34m(\u001b[0m\u001b[0;34m)\u001b[0m\u001b[0;34m\u001b[0m\u001b[0;34m\u001b[0m\u001b[0m\n\u001b[0;32m----> 4\u001b[0;31m \u001b[0mprint\u001b[0m\u001b[0;34m(\u001b[0m\u001b[0;34m\"python is\"\u001b[0m\u001b[0;34m,\u001b[0m\u001b[0mstr22\u001b[0m\u001b[0;34m)\u001b[0m \u001b[0;31m# we cannot access local variable otside the function\u001b[0m\u001b[0;34m\u001b[0m\u001b[0;34m\u001b[0m\u001b[0m\n\u001b[0m",
      "\u001b[0;31mNameError\u001b[0m: name 'str22' is not defined"
     ]
    }
   ],
   "source": [
    "def f2():\n",
    "    str22 = 'Awesome'\n",
    "f2()\n",
    "print(\"python is\",str22) # we cannot access local variable otside the function"
   ]
  },
  {
   "cell_type": "code",
   "execution_count": 46,
   "id": "397d111f",
   "metadata": {},
   "outputs": [
    {
     "name": "stdout",
     "output_type": "stream",
     "text": [
      "python is Awesome\n"
     ]
    }
   ],
   "source": [
    "def f2():\n",
    "    global str22\n",
    "    str22 = 'Awesome'\n",
    "f2()\n",
    "print(\"python is\",str22)"
   ]
  },
  {
   "cell_type": "markdown",
   "id": "bbdad713",
   "metadata": {},
   "source": [
    "# Datatypes"
   ]
  },
  {
   "cell_type": "code",
   "execution_count": 48,
   "id": "883406be",
   "metadata": {},
   "outputs": [],
   "source": [
    "X = \" AAKANKSHA \"\n",
    "y = 2\n",
    "z = 56.56\n",
    "b = ['apple','banana','orange']\n",
    "c = ('mobile',56,'laptop')\n",
    "d = range(6)\n",
    "e = {\"apple\",\"banana\"}\n",
    "f = {'name':\"AAKANKSHA\",'age':19}\n",
    "g = frozenset({\"apple\",\"banana\"})"
   ]
  },
  {
   "cell_type": "code",
   "execution_count": 49,
   "id": "8d346c2d",
   "metadata": {},
   "outputs": [
    {
     "name": "stdout",
     "output_type": "stream",
     "text": [
      "<class 'str'>\n",
      "<class 'int'>\n",
      "<class 'float'>\n",
      "<class 'list'>\n",
      "<class 'tuple'>\n",
      "<class 'range'>\n",
      "<class 'set'>\n",
      "<class 'dict'>\n",
      "<class 'frozenset'>\n"
     ]
    }
   ],
   "source": [
    "print(type(X))\n",
    "print(type(y))\n",
    "print(type(z))\n",
    "print(type(b))\n",
    "print(type(c))\n",
    "print(type(d))\n",
    "print(type(e))\n",
    "print(type(f))\n",
    "print(type(g))\n",
    "\n"
   ]
  },
  {
   "cell_type": "code",
   "execution_count": 50,
   "id": "229e7723",
   "metadata": {},
   "outputs": [
    {
     "data": {
      "text/plain": [
       "45555"
      ]
     },
     "execution_count": 50,
     "metadata": {},
     "output_type": "execute_result"
    }
   ],
   "source": [
    "num = 45555\n",
    "num"
   ]
  },
  {
   "cell_type": "code",
   "execution_count": 51,
   "id": "7aa5bf69",
   "metadata": {},
   "outputs": [],
   "source": [
    "num = 99947366789234567890"
   ]
  },
  {
   "cell_type": "code",
   "execution_count": 53,
   "id": "d570e83d",
   "metadata": {},
   "outputs": [
    {
     "name": "stdout",
     "output_type": "stream",
     "text": [
      "Enter any number\n",
      "67\n"
     ]
    },
    {
     "data": {
      "text/plain": [
       "'67'"
      ]
     },
     "execution_count": 53,
     "metadata": {},
     "output_type": "execute_result"
    }
   ],
   "source": [
    "# input method is used to take input from user\n",
    "print('Enter any number')\n",
    "input()"
   ]
  },
  {
   "cell_type": "code",
   "execution_count": null,
   "id": "4f5596a1",
   "metadata": {},
   "outputs": [],
   "source": []
  }
 ],
 "metadata": {
  "kernelspec": {
   "display_name": "Python 3",
   "language": "python",
   "name": "python3"
  },
  "language_info": {
   "codemirror_mode": {
    "name": "ipython",
    "version": 3
   },
   "file_extension": ".py",
   "mimetype": "text/x-python",
   "name": "python",
   "nbconvert_exporter": "python",
   "pygments_lexer": "ipython3",
   "version": "3.8.8"
  }
 },
 "nbformat": 4,
 "nbformat_minor": 5
}
