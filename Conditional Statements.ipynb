{
 "cells": [
  {
   "cell_type": "markdown",
   "id": "1e01a84e",
   "metadata": {},
   "source": [
    "# conditional statements"
   ]
  },
  {
   "cell_type": "markdown",
   "id": "9ed30340",
   "metadata": {},
   "source": [
    "* If conditions"
   ]
  },
  {
   "cell_type": "code",
   "execution_count": 1,
   "id": "eccc1693",
   "metadata": {},
   "outputs": [
    {
     "name": "stdout",
     "output_type": "stream",
     "text": [
      "a is less than b\n"
     ]
    }
   ],
   "source": [
    "a = 23\n",
    "b = 34\n",
    "if a<b:\n",
    "    print(\"a is less than b\")"
   ]
  },
  {
   "cell_type": "markdown",
   "id": "523ed828",
   "metadata": {},
   "source": [
    "* elif statement"
   ]
  },
  {
   "cell_type": "code",
   "execution_count": 4,
   "id": "d2d78448",
   "metadata": {},
   "outputs": [
    {
     "name": "stdout",
     "output_type": "stream",
     "text": [
      "a and b are equal\n"
     ]
    }
   ],
   "source": [
    "a = 33\n",
    "b = 33\n",
    "\n",
    "if b>a:\n",
    "    print(\" b is greater than a\")\n",
    "elif a>b:\n",
    "    print(\"a is grater than b\")\n",
    "elif a==b:\n",
    "    print(\"a and b are equal\")\n",
    "    "
   ]
  },
  {
   "cell_type": "markdown",
   "id": "5f961853",
   "metadata": {},
   "source": [
    "* else statement"
   ]
  },
  {
   "cell_type": "code",
   "execution_count": 5,
   "id": "8d5f7b19",
   "metadata": {},
   "outputs": [
    {
     "name": "stdout",
     "output_type": "stream",
     "text": [
      "a and b are equal\n"
     ]
    }
   ],
   "source": [
    "a = 33\n",
    "b = 33\n",
    "\n",
    "if b>a:\n",
    "    print(\" b is greater than a\")\n",
    "elif a>b:\n",
    "    print(\"a is grater than b\")\n",
    "elif a==b:\n",
    "    print(\"a and b are equal\")\n",
    "else :\n",
    "    print(\"unable to recognized\")"
   ]
  },
  {
   "cell_type": "code",
   "execution_count": 8,
   "id": "2b26dc23",
   "metadata": {},
   "outputs": [
    {
     "name": "stdout",
     "output_type": "stream",
     "text": [
      " Enter any number\n",
      "5\n",
      "Your entered number is : 5\n",
      "Number is odd\n"
     ]
    }
   ],
   "source": [
    "# checking number is even or odd by taking input from user\n",
    "print(\" Enter any number\")\n",
    "num = int(input()) #by default the number we have entered is in string format so we use int here\n",
    "print(\"Your entered number is :\",num)\n",
    "if num%2==0:\n",
    "    print(\"Number is even\")\n",
    "else:\n",
    "    print(\"Number is odd\")"
   ]
  },
  {
   "cell_type": "code",
   "execution_count": 9,
   "id": "4bc3ec2a",
   "metadata": {},
   "outputs": [
    {
     "name": "stdout",
     "output_type": "stream",
     "text": [
      "B\n"
     ]
    }
   ],
   "source": [
    "# method2 \n",
    "\n",
    "a=2\n",
    "b=300\n",
    "print(\"A\") if a>b else print(\"B\")"
   ]
  },
  {
   "cell_type": "markdown",
   "id": "3d73f040",
   "metadata": {},
   "source": [
    "# Loops"
   ]
  },
  {
   "cell_type": "code",
   "execution_count": 10,
   "id": "6a05a3a2",
   "metadata": {},
   "outputs": [],
   "source": [
    "product_list = [\"bajaj\",\"shine\",\"unicorn\",\"pulsor\",\"dominor\",\"avenger\",\"platina\"]"
   ]
  },
  {
   "cell_type": "markdown",
   "id": "2014748e",
   "metadata": {},
   "source": [
    "* For Loop"
   ]
  },
  {
   "cell_type": "code",
   "execution_count": 13,
   "id": "55c01283",
   "metadata": {},
   "outputs": [
    {
     "name": "stdout",
     "output_type": "stream",
     "text": [
      "0 1 2 3 4 5 6 7 8 9 10 11 12 13 14 15 16 17 18 19 20 21 22 23 24 25 26 27 28 29 30 31 32 33 34 35 36 37 38 39 40 41 42 43 44 45 46 47 48 49 50 51 52 53 54 55 56 57 58 59 60 61 62 63 64 65 66 67 68 69 70 71 72 73 74 75 76 77 78 79 80 81 82 83 84 85 86 87 88 89 90 91 92 93 94 95 96 97 98 99 "
     ]
    }
   ],
   "source": [
    "for i in range(100):\n",
    "    print(i,end=\" \")"
   ]
  },
  {
   "cell_type": "code",
   "execution_count": 15,
   "id": "eb74f291",
   "metadata": {},
   "outputs": [
    {
     "name": "stdout",
     "output_type": "stream",
     "text": [
      "bajaj shine unicorn pulsor dominor avenger platina "
     ]
    }
   ],
   "source": [
    "# iterating list using for loop\n",
    "for i in product_list:\n",
    "    print(i,end=\" \")"
   ]
  },
  {
   "cell_type": "code",
   "execution_count": 25,
   "id": "a43911e2",
   "metadata": {},
   "outputs": [
    {
     "name": "stdout",
     "output_type": "stream",
     "text": [
      "0 15 30 45 60 75 90 "
     ]
    }
   ],
   "source": [
    "# multiples of 3 and 5\n",
    "for i in range(100):\n",
    "    if i %3 ==0 and i%5==0:\n",
    "        \n",
    "        print(i,end=\" \")\n",
    "    #print(i,end=\" \")"
   ]
  },
  {
   "cell_type": "code",
   "execution_count": 28,
   "id": "04f42873",
   "metadata": {},
   "outputs": [
    {
     "name": "stdout",
     "output_type": "stream",
     "text": [
      "  G C O E A R A   "
     ]
    }
   ],
   "source": [
    "# String iteration using for loop\n",
    "str1 = \" GCOEARA \"\n",
    "for i in str1:\n",
    "    print(i,end=\" \")"
   ]
  },
  {
   "cell_type": "code",
   "execution_count": 29,
   "id": "386f3ccc",
   "metadata": {},
   "outputs": [
    {
     "name": "stdout",
     "output_type": "stream",
     "text": [
      "G C O E A R A "
     ]
    }
   ],
   "source": [
    "\n",
    "for i in \"GCOEARA\":\n",
    "    print(i,end=\" \")"
   ]
  },
  {
   "cell_type": "markdown",
   "id": "585a19cf",
   "metadata": {},
   "source": [
    "* While Loop"
   ]
  },
  {
   "cell_type": "code",
   "execution_count": 33,
   "id": "d1ff14c3",
   "metadata": {},
   "outputs": [
    {
     "name": "stdout",
     "output_type": "stream",
     "text": [
      "0 15 30 45 60 75 90 "
     ]
    }
   ],
   "source": [
    "# multiples of 3 and 5\n",
    "i=0\n",
    "while i<100:# conditions \n",
    "    if i%3==0 and i%5 ==0:#body\n",
    "        print(i,end=\" \")\n",
    "    i =i+1 # increment /decrement\n",
    "    "
   ]
  },
  {
   "cell_type": "markdown",
   "id": "ee569d41",
   "metadata": {},
   "source": [
    "### Continue,break and pass"
   ]
  },
  {
   "cell_type": "markdown",
   "id": "6f0573f8",
   "metadata": {},
   "source": [
    "* Break"
   ]
  },
  {
   "cell_type": "code",
   "execution_count": 36,
   "id": "5debbae7",
   "metadata": {},
   "outputs": [
    {
     "name": "stdout",
     "output_type": "stream",
     "text": [
      "banana cherry "
     ]
    }
   ],
   "source": [
    "l1 = ['banana','cherry','apple','orange','pineapple']\n",
    "\n",
    "for i in l1:\n",
    "    if i == 'apple':\n",
    "        break    # used to come out of the loop when condition mached\n",
    "    print(i,end=\" \")"
   ]
  },
  {
   "cell_type": "markdown",
   "id": "711e35af",
   "metadata": {},
   "source": [
    "* Continue"
   ]
  },
  {
   "cell_type": "code",
   "execution_count": 38,
   "id": "23b83c37",
   "metadata": {},
   "outputs": [
    {
     "name": "stdout",
     "output_type": "stream",
     "text": [
      "banana cherry orange pineapple "
     ]
    }
   ],
   "source": [
    "l1 = ['banana','cherry','apple','orange','pineapple']\n",
    "\n",
    "for i in l1:\n",
    "    if i == 'apple':\n",
    "        continue    # when condition mached then that element is skip or drop\n",
    "    print(i,end=\" \")"
   ]
  },
  {
   "cell_type": "markdown",
   "id": "5d99205d",
   "metadata": {},
   "source": [
    "* Pass"
   ]
  },
  {
   "cell_type": "code",
   "execution_count": 39,
   "id": "699ca1cd",
   "metadata": {},
   "outputs": [],
   "source": [
    "# used to pass control to next \n",
    "# does not used to perform any operations\n",
    "for i in range(4):\n",
    "    pass"
   ]
  },
  {
   "cell_type": "code",
   "execution_count": 40,
   "id": "d275d18f",
   "metadata": {},
   "outputs": [],
   "source": [
    "def f1():\n",
    "    pass\n",
    "f1()"
   ]
  },
  {
   "cell_type": "code",
   "execution_count": 42,
   "id": "94ae77c1",
   "metadata": {},
   "outputs": [
    {
     "name": "stdout",
     "output_type": "stream",
     "text": [
      "0 1 2 3 4 5 6 7 8 9 10 11 12 13 14 15 16 17 18 19 20 21 22 23 24 25 26 27 28 29 30 31 32 33 34 35 36 37 38 39 40 41 42 43 44 45 46 47 48 49 50 51 52 53 54 55 56 57 58 59 60 61 62 63 64 65 66 67 68 69 70 71 72 73 74 75 76 77 78 79 80 81 82 83 84 85 86 87 88 89 90 91 92 93 94 95 96 97 98 99 loop finished\n"
     ]
    }
   ],
   "source": [
    "# else block with loop\n",
    "\n",
    "for num in range(100):\n",
    "    print(num,end=\" \")\n",
    "    \n",
    "else :\n",
    "    print(\"loop finished\")"
   ]
  },
  {
   "cell_type": "markdown",
   "id": "b404c427",
   "metadata": {},
   "source": [
    "* Nested loops"
   ]
  },
  {
   "cell_type": "code",
   "execution_count": 43,
   "id": "9333fca0",
   "metadata": {},
   "outputs": [
    {
     "name": "stdout",
     "output_type": "stream",
     "text": [
      "red apple\n",
      "red banana\n",
      "red cherry\n",
      "big apple\n",
      "big banana\n",
      "big cherry\n",
      "tasty apple\n",
      "tasty banana\n",
      "tasty cherry\n"
     ]
    }
   ],
   "source": [
    "adj = [\"red\",\"big\",\"tasty\"]\n",
    "fruits = [\"apple\",\"banana\",\"cherry\"]\n",
    "for c in adj:\n",
    "    for d in fruits:\n",
    "        print(c,d)"
   ]
  },
  {
   "cell_type": "code",
   "execution_count": null,
   "id": "4fb4674a",
   "metadata": {},
   "outputs": [],
   "source": []
  }
 ],
 "metadata": {
  "kernelspec": {
   "display_name": "Python 3",
   "language": "python",
   "name": "python3"
  },
  "language_info": {
   "codemirror_mode": {
    "name": "ipython",
    "version": 3
   },
   "file_extension": ".py",
   "mimetype": "text/x-python",
   "name": "python",
   "nbconvert_exporter": "python",
   "pygments_lexer": "ipython3",
   "version": "3.8.8"
  }
 },
 "nbformat": 4,
 "nbformat_minor": 5
}
