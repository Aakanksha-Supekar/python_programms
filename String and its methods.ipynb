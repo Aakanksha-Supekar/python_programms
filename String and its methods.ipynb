{
 "cells": [
  {
   "cell_type": "markdown",
   "id": "5eb00ffe",
   "metadata": {},
   "source": [
    "* String : sequence of characters\n"
   ]
  },
  {
   "cell_type": "code",
   "execution_count": 9,
   "id": "7a7f9ba4",
   "metadata": {},
   "outputs": [
    {
     "name": "stdout",
     "output_type": "stream",
     "text": [
      " Hello world\n"
     ]
    },
    {
     "data": {
      "text/plain": [
       "12"
      ]
     },
     "execution_count": 9,
     "metadata": {},
     "output_type": "execute_result"
    }
   ],
   "source": [
    "str1 = \" Hello world\"\n",
    "print(str1)\n",
    "len(str1)"
   ]
  },
  {
   "cell_type": "code",
   "execution_count": 2,
   "id": "bf573843",
   "metadata": {},
   "outputs": [
    {
     "name": "stdout",
     "output_type": "stream",
     "text": [
      "<class 'str'>\n"
     ]
    }
   ],
   "source": [
    "print(type(str1))"
   ]
  },
  {
   "cell_type": "code",
   "execution_count": 12,
   "id": "b842cb10",
   "metadata": {},
   "outputs": [
    {
     "name": "stdout",
     "output_type": "stream",
     "text": [
      " hello world\n"
     ]
    }
   ],
   "source": [
    "print(str1.capitalize())"
   ]
  },
  {
   "cell_type": "code",
   "execution_count": 11,
   "id": "90da2a8b",
   "metadata": {},
   "outputs": [
    {
     "name": "stdout",
     "output_type": "stream",
     "text": [
      " hello world\n"
     ]
    }
   ],
   "source": [
    "print(str1.casefold())"
   ]
  },
  {
   "cell_type": "code",
   "execution_count": 14,
   "id": "f7efe1f4",
   "metadata": {},
   "outputs": [
    {
     "name": "stdout",
     "output_type": "stream",
     "text": [
      "1\n",
      "3\n"
     ]
    }
   ],
   "source": [
    "print(str1.count(\"H\"))\n",
    "print(str1.count(\"l\"))"
   ]
  },
  {
   "cell_type": "code",
   "execution_count": 21,
   "id": "b0b021ef",
   "metadata": {},
   "outputs": [
    {
     "name": "stdout",
     "output_type": "stream",
     "text": [
      "*******AAKANKSHA********\n"
     ]
    }
   ],
   "source": [
    "mystr = \"AAKANKSHA\"\n",
    "print(mystr.center(24,\"*\"))"
   ]
  },
  {
   "cell_type": "code",
   "execution_count": 23,
   "id": "892a983b",
   "metadata": {},
   "outputs": [
    {
     "name": "stdout",
     "output_type": "stream",
     "text": [
      "True\n"
     ]
    }
   ],
   "source": [
    "print(mystr.endswith(\"A\"))"
   ]
  },
  {
   "cell_type": "code",
   "execution_count": 24,
   "id": "5dc22f2c",
   "metadata": {},
   "outputs": [
    {
     "name": "stdout",
     "output_type": "stream",
     "text": [
      "AAKANKSHA\n"
     ]
    }
   ],
   "source": [
    "print(mystr.upper())"
   ]
  },
  {
   "cell_type": "code",
   "execution_count": 25,
   "id": "fea054e5",
   "metadata": {},
   "outputs": [
    {
     "name": "stdout",
     "output_type": "stream",
     "text": [
      "aakanksha\n"
     ]
    }
   ],
   "source": [
    "print(mystr.lower())"
   ]
  },
  {
   "cell_type": "code",
   "execution_count": 27,
   "id": "f49e13ab",
   "metadata": {},
   "outputs": [
    {
     "name": "stdout",
     "output_type": "stream",
     "text": [
      "hello World\n"
     ]
    }
   ],
   "source": [
    "#String Concatenation\n",
    "str1 = \"hello\"\n",
    "str2 = \"World\"\n",
    "print(str1+\" \"+str2)\n"
   ]
  },
  {
   "cell_type": "code",
   "execution_count": 32,
   "id": "8df8562f",
   "metadata": {},
   "outputs": [
    {
     "name": "stdout",
     "output_type": "stream",
     "text": [
      " this product is available for 75.00 rupees\n"
     ]
    }
   ],
   "source": [
    "txt = \" this product is available for {price:.2f} rupees\"\n",
    "print(txt.format(price=75))"
   ]
  },
  {
   "cell_type": "code",
   "execution_count": 36,
   "id": "cf96c797",
   "metadata": {},
   "outputs": [
    {
     "name": "stdout",
     "output_type": "stream",
     "text": [
      "My name is kavya,my age is 5\n",
      "My name is kavya,my age is 5\n",
      "My name is kavya,my age is 5\n"
     ]
    }
   ],
   "source": [
    "# placeholders\n",
    "\n",
    "# named indices\n",
    "txt1 = \"My name is {fname},my age is {age}\".format(fname=\"kavya\",age=5)\n",
    "print(txt1)\n",
    "\n",
    "# numbered indices\n",
    "txt2 = \"My name is {0},my age is {1}\".format(\"kavya\",5)\n",
    "print(txt2)\n",
    "\n",
    "# Empty placeholders\n",
    "txt3=\"My name is {},my age is {}\".format(\"kavya\",5)\n",
    "print(txt3)"
   ]
  },
  {
   "cell_type": "code",
   "execution_count": null,
   "id": "be535e24",
   "metadata": {},
   "outputs": [],
   "source": []
  }
 ],
 "metadata": {
  "kernelspec": {
   "display_name": "Python 3",
   "language": "python",
   "name": "python3"
  },
  "language_info": {
   "codemirror_mode": {
    "name": "ipython",
    "version": 3
   },
   "file_extension": ".py",
   "mimetype": "text/x-python",
   "name": "python",
   "nbconvert_exporter": "python",
   "pygments_lexer": "ipython3",
   "version": "3.8.8"
  }
 },
 "nbformat": 4,
 "nbformat_minor": 5
}
