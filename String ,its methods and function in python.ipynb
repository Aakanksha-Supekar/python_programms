{
 "cells": [
  {
   "cell_type": "markdown",
   "id": "59dd1bdf",
   "metadata": {},
   "source": [
    "* String : sequence of characters\n"
   ]
  },
  {
   "cell_type": "code",
   "execution_count": 9,
   "id": "2831ccec",
   "metadata": {},
   "outputs": [
    {
     "name": "stdout",
     "output_type": "stream",
     "text": [
      " Hello world\n"
     ]
    },
    {
     "data": {
      "text/plain": [
       "12"
      ]
     },
     "execution_count": 9,
     "metadata": {},
     "output_type": "execute_result"
    }
   ],
   "source": [
    "str1 = \" Hello world\"\n",
    "print(str1)\n",
    "len(str1)"
   ]
  },
  {
   "cell_type": "code",
   "execution_count": 2,
   "id": "44f34b66",
   "metadata": {},
   "outputs": [
    {
     "name": "stdout",
     "output_type": "stream",
     "text": [
      "<class 'str'>\n"
     ]
    }
   ],
   "source": [
    "print(type(str1))"
   ]
  },
  {
   "cell_type": "code",
   "execution_count": 12,
   "id": "48706fac",
   "metadata": {},
   "outputs": [
    {
     "name": "stdout",
     "output_type": "stream",
     "text": [
      " hello world\n"
     ]
    }
   ],
   "source": [
    "print(str1.capitalize())"
   ]
  },
  {
   "cell_type": "code",
   "execution_count": 11,
   "id": "045f5eeb",
   "metadata": {},
   "outputs": [
    {
     "name": "stdout",
     "output_type": "stream",
     "text": [
      " hello world\n"
     ]
    }
   ],
   "source": [
    "print(str1.casefold())"
   ]
  },
  {
   "cell_type": "code",
   "execution_count": 14,
   "id": "a3260f50",
   "metadata": {},
   "outputs": [
    {
     "name": "stdout",
     "output_type": "stream",
     "text": [
      "1\n",
      "3\n"
     ]
    }
   ],
   "source": [
    "print(str1.count(\"H\"))\n",
    "print(str1.count(\"l\"))"
   ]
  },
  {
   "cell_type": "code",
   "execution_count": 21,
   "id": "b53efd41",
   "metadata": {},
   "outputs": [
    {
     "name": "stdout",
     "output_type": "stream",
     "text": [
      "*******AAKANKSHA********\n"
     ]
    }
   ],
   "source": [
    "mystr = \"AAKANKSHA\"\n",
    "print(mystr.center(24,\"*\"))"
   ]
  },
  {
   "cell_type": "code",
   "execution_count": 23,
   "id": "487cd042",
   "metadata": {},
   "outputs": [
    {
     "name": "stdout",
     "output_type": "stream",
     "text": [
      "True\n"
     ]
    }
   ],
   "source": [
    "print(mystr.endswith(\"A\"))"
   ]
  },
  {
   "cell_type": "code",
   "execution_count": 24,
   "id": "3ae11a7d",
   "metadata": {},
   "outputs": [
    {
     "name": "stdout",
     "output_type": "stream",
     "text": [
      "AAKANKSHA\n"
     ]
    }
   ],
   "source": [
    "print(mystr.upper())"
   ]
  },
  {
   "cell_type": "code",
   "execution_count": 25,
   "id": "135a6cbe",
   "metadata": {},
   "outputs": [
    {
     "name": "stdout",
     "output_type": "stream",
     "text": [
      "aakanksha\n"
     ]
    }
   ],
   "source": [
    "print(mystr.lower())"
   ]
  },
  {
   "cell_type": "code",
   "execution_count": 27,
   "id": "9b88365d",
   "metadata": {},
   "outputs": [
    {
     "name": "stdout",
     "output_type": "stream",
     "text": [
      "hello World\n"
     ]
    }
   ],
   "source": [
    "#String Concatenation\n",
    "str1 = \"hello\"\n",
    "str2 = \"World\"\n",
    "print(str1+\" \"+str2)\n"
   ]
  },
  {
   "cell_type": "code",
   "execution_count": 32,
   "id": "e0a1991f",
   "metadata": {},
   "outputs": [
    {
     "name": "stdout",
     "output_type": "stream",
     "text": [
      " this product is available for 75.00 rupees\n"
     ]
    }
   ],
   "source": [
    "txt = \" this product is available for {price:.2f} rupees\"\n",
    "print(txt.format(price=75))"
   ]
  },
  {
   "cell_type": "code",
   "execution_count": 36,
   "id": "4190ffbf",
   "metadata": {},
   "outputs": [
    {
     "name": "stdout",
     "output_type": "stream",
     "text": [
      "My name is kavya,my age is 5\n",
      "My name is kavya,my age is 5\n",
      "My name is kavya,my age is 5\n"
     ]
    }
   ],
   "source": [
    "# placeholders\n",
    "\n",
    "# named indices\n",
    "txt1 = \"My name is {fname},my age is {age}\".format(fname=\"kavya\",age=5)\n",
    "print(txt1)\n",
    "\n",
    "# numbered indices\n",
    "txt2 = \"My name is {0},my age is {1}\".format(\"kavya\",5)\n",
    "print(txt2)\n",
    "\n",
    "# Empty placeholders\n",
    "txt3=\"My name is {},my age is {}\".format(\"kavya\",5)\n",
    "print(txt3)"
   ]
  },
  {
   "cell_type": "markdown",
   "id": "31a6d829",
   "metadata": {},
   "source": [
    "# Functions"
   ]
  },
  {
   "cell_type": "code",
   "execution_count": 37,
   "id": "330ac3b5",
   "metadata": {},
   "outputs": [
    {
     "name": "stdout",
     "output_type": "stream",
     "text": [
      "control is now outside the function\n",
      "Control came inside the function\n",
      "function executed\n"
     ]
    }
   ],
   "source": [
    "# to run set statments again and again we use function\n",
    "def my_function():\n",
    "    print(\"Control came inside the function\")\n",
    "print(\"control is now outside the function\")\n",
    "my_function()\n",
    "print(\"function executed\")"
   ]
  },
  {
   "cell_type": "code",
   "execution_count": null,
   "id": "051b657a",
   "metadata": {},
   "outputs": [],
   "source": [
    "# example\n",
    "branch = \"AHMEDNAGAR\"\n",
    "bal = 5000000000000\n",
    "acc_no=0\n",
    "print(\" welcome to state bank of india\")\n",
    "print(\"Can i know your name?\")\n",
    "\n",
    "name=input()\n",
    "\n",
    "n1=name\n",
    "def greet_customer(n1):\n",
    "    \n",
    "    \n",
    "    print(\"hey \" +n1 +\"! nice to meet you\")\n",
    "    print(\"please enter account no\")\n",
    "    acc_no=int(input())\n",
    "def get_account_details(acc_no):\n",
    "    print(\"name\",n1)\n",
    "    print(\"Branch\",branch)\n",
    "def check_balance(acc_no):\n",
    "    print(\"Balance\",bal)\n",
    "    print(\"Account no\",acc_no)\n",
    "def send_money(acc_no):\n",
    "    print(\" enter account no\")\n",
    "    acc_no_to_send=int(input())\n",
    "    print(\"How much do you want to send?\")\n",
    "    ammount=float(input())\n",
    "    print(\"Transferred Successfully\")\n",
    "print(\" welcome to state bank of india\")\n",
    "print(\"Can i know your name?\")\n",
    "\n",
    "name=input()\n",
    "\n",
    "greet_customer(name)\n",
    "print(\" How may i help you??\")\n",
    "print(\"1.Get account Details\\t2.Check Balance\\t3.send money\")\n",
    "print(\"enter the choice:\")\n",
    "choice = int(input())\n",
    "\n",
    "if choice==1:\n",
    "    get_account_details(acc_no)\n",
    "elif choise==2:\n",
    "    check_balance(acc_no)\n",
    "elif choise==3:\n",
    "    send_money(acc_no)\n",
    "else:\n",
    "    print(\"invalid choise\")\n",
    "    \n",
    "\n",
    "\n"
   ]
  },
  {
   "cell_type": "code",
   "execution_count": null,
   "id": "4f016008",
   "metadata": {},
   "outputs": [],
   "source": []
  },
  {
   "cell_type": "code",
   "execution_count": null,
   "id": "c1d10553",
   "metadata": {},
   "outputs": [],
   "source": []
  }
 ],
 "metadata": {
  "kernelspec": {
   "display_name": "Python 3",
   "language": "python",
   "name": "python3"
  },
  "language_info": {
   "codemirror_mode": {
    "name": "ipython",
    "version": 3
   },
   "file_extension": ".py",
   "mimetype": "text/x-python",
   "name": "python",
   "nbconvert_exporter": "python",
   "pygments_lexer": "ipython3",
   "version": "3.8.8"
  }
 },
 "nbformat": 4,
 "nbformat_minor": 5
}
